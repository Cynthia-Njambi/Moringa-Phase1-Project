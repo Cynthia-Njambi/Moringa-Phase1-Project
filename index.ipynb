{
 "cells": [
  {
   "cell_type": "markdown",
   "metadata": {},
   "source": [
    "# Phase 1 Project"
   ]
  },
  {
   "cell_type": "markdown",
   "metadata": {},
   "source": [
    "## 1. Business Understanding"
   ]
  },
  {
   "cell_type": "markdown",
   "metadata": {},
   "source": [
    "The head of Microsoft needs to know what types of films are trending so that they can be at the top of the game when opening their new movie studio\n",
    "### Some of the questions to be answer\n",
    "1. What are the top 5 genres currently trending?\n",
    "2. How much do certain genres generate?\n",
    "3. What is the average time of movies?"
   ]
  },
  {
   "cell_type": "markdown",
   "metadata": {},
   "source": [
    "## 2. Data Understanding"
   ]
  },
  {
   "cell_type": "markdown",
   "metadata": {},
   "source": [
    "#### Understanding bom.movie_gross.csv data"
   ]
  },
  {
   "cell_type": "code",
   "execution_count": 1,
   "metadata": {},
   "outputs": [],
   "source": [
    "import pandas as pd\n",
    "\n",
    "bom_movie_gross_df = pd.read_csv('data/bom.movie_gross.csv/bom.movie_gross.csv') # Reading into the first dataset"
   ]
  },
  {
   "cell_type": "code",
   "execution_count": 2,
   "metadata": {},
   "outputs": [
    {
     "data": {
      "text/html": [
       "<div>\n",
       "<style scoped>\n",
       "    .dataframe tbody tr th:only-of-type {\n",
       "        vertical-align: middle;\n",
       "    }\n",
       "\n",
       "    .dataframe tbody tr th {\n",
       "        vertical-align: top;\n",
       "    }\n",
       "\n",
       "    .dataframe thead th {\n",
       "        text-align: right;\n",
       "    }\n",
       "</style>\n",
       "<table border=\"1\" class=\"dataframe\">\n",
       "  <thead>\n",
       "    <tr style=\"text-align: right;\">\n",
       "      <th></th>\n",
       "      <th>title</th>\n",
       "      <th>studio</th>\n",
       "      <th>domestic_gross</th>\n",
       "      <th>foreign_gross</th>\n",
       "      <th>year</th>\n",
       "    </tr>\n",
       "  </thead>\n",
       "  <tbody>\n",
       "    <tr>\n",
       "      <th>0</th>\n",
       "      <td>Toy Story 3</td>\n",
       "      <td>BV</td>\n",
       "      <td>415000000.0</td>\n",
       "      <td>652000000</td>\n",
       "      <td>2010</td>\n",
       "    </tr>\n",
       "    <tr>\n",
       "      <th>1</th>\n",
       "      <td>Alice in Wonderland (2010)</td>\n",
       "      <td>BV</td>\n",
       "      <td>334200000.0</td>\n",
       "      <td>691300000</td>\n",
       "      <td>2010</td>\n",
       "    </tr>\n",
       "    <tr>\n",
       "      <th>2</th>\n",
       "      <td>Harry Potter and the Deathly Hallows Part 1</td>\n",
       "      <td>WB</td>\n",
       "      <td>296000000.0</td>\n",
       "      <td>664300000</td>\n",
       "      <td>2010</td>\n",
       "    </tr>\n",
       "    <tr>\n",
       "      <th>3</th>\n",
       "      <td>Inception</td>\n",
       "      <td>WB</td>\n",
       "      <td>292600000.0</td>\n",
       "      <td>535700000</td>\n",
       "      <td>2010</td>\n",
       "    </tr>\n",
       "    <tr>\n",
       "      <th>4</th>\n",
       "      <td>Shrek Forever After</td>\n",
       "      <td>P/DW</td>\n",
       "      <td>238700000.0</td>\n",
       "      <td>513900000</td>\n",
       "      <td>2010</td>\n",
       "    </tr>\n",
       "  </tbody>\n",
       "</table>\n",
       "</div>"
      ],
      "text/plain": [
       "                                         title studio  domestic_gross  \\\n",
       "0                                  Toy Story 3     BV     415000000.0   \n",
       "1                   Alice in Wonderland (2010)     BV     334200000.0   \n",
       "2  Harry Potter and the Deathly Hallows Part 1     WB     296000000.0   \n",
       "3                                    Inception     WB     292600000.0   \n",
       "4                          Shrek Forever After   P/DW     238700000.0   \n",
       "\n",
       "  foreign_gross  year  \n",
       "0     652000000  2010  \n",
       "1     691300000  2010  \n",
       "2     664300000  2010  \n",
       "3     535700000  2010  \n",
       "4     513900000  2010  "
      ]
     },
     "execution_count": 2,
     "metadata": {},
     "output_type": "execute_result"
    }
   ],
   "source": [
    "bom_movie_gross_df.head()"
   ]
  },
  {
   "cell_type": "code",
   "execution_count": 3,
   "metadata": {},
   "outputs": [
    {
     "data": {
      "text/plain": [
       "<bound method DataFrame.info of                                             title      studio  domestic_gross  \\\n",
       "0                                     Toy Story 3          BV     415000000.0   \n",
       "1                      Alice in Wonderland (2010)          BV     334200000.0   \n",
       "2     Harry Potter and the Deathly Hallows Part 1          WB     296000000.0   \n",
       "3                                       Inception          WB     292600000.0   \n",
       "4                             Shrek Forever After        P/DW     238700000.0   \n",
       "...                                           ...         ...             ...   \n",
       "3382                                    The Quake       Magn.          6200.0   \n",
       "3383                  Edward II (2018 re-release)          FM          4800.0   \n",
       "3384                                     El Pacto        Sony          2500.0   \n",
       "3385                                     The Swan  Synergetic          2400.0   \n",
       "3386                            An Actor Prepares       Grav.          1700.0   \n",
       "\n",
       "     foreign_gross  year  \n",
       "0        652000000  2010  \n",
       "1        691300000  2010  \n",
       "2        664300000  2010  \n",
       "3        535700000  2010  \n",
       "4        513900000  2010  \n",
       "...            ...   ...  \n",
       "3382           NaN  2018  \n",
       "3383           NaN  2018  \n",
       "3384           NaN  2018  \n",
       "3385           NaN  2018  \n",
       "3386           NaN  2018  \n",
       "\n",
       "[3387 rows x 5 columns]>"
      ]
     },
     "execution_count": 3,
     "metadata": {},
     "output_type": "execute_result"
    }
   ],
   "source": [
    "bom_movie_gross_df.info"
   ]
  },
  {
   "cell_type": "code",
   "execution_count": 4,
   "metadata": {},
   "outputs": [
    {
     "data": {
      "text/plain": [
       "Index(['title', 'studio', 'domestic_gross', 'foreign_gross', 'year'], dtype='object')"
      ]
     },
     "execution_count": 4,
     "metadata": {},
     "output_type": "execute_result"
    }
   ],
   "source": [
    "bom_movie_gross_df.columns"
   ]
  },
  {
   "cell_type": "code",
   "execution_count": 5,
   "metadata": {},
   "outputs": [
    {
     "data": {
      "text/html": [
       "<div>\n",
       "<style scoped>\n",
       "    .dataframe tbody tr th:only-of-type {\n",
       "        vertical-align: middle;\n",
       "    }\n",
       "\n",
       "    .dataframe tbody tr th {\n",
       "        vertical-align: top;\n",
       "    }\n",
       "\n",
       "    .dataframe thead th {\n",
       "        text-align: right;\n",
       "    }\n",
       "</style>\n",
       "<table border=\"1\" class=\"dataframe\">\n",
       "  <thead>\n",
       "    <tr style=\"text-align: right;\">\n",
       "      <th></th>\n",
       "      <th>domestic_gross</th>\n",
       "      <th>year</th>\n",
       "    </tr>\n",
       "  </thead>\n",
       "  <tbody>\n",
       "    <tr>\n",
       "      <th>count</th>\n",
       "      <td>3.359000e+03</td>\n",
       "      <td>3387.000000</td>\n",
       "    </tr>\n",
       "    <tr>\n",
       "      <th>mean</th>\n",
       "      <td>2.874585e+07</td>\n",
       "      <td>2013.958075</td>\n",
       "    </tr>\n",
       "    <tr>\n",
       "      <th>std</th>\n",
       "      <td>6.698250e+07</td>\n",
       "      <td>2.478141</td>\n",
       "    </tr>\n",
       "    <tr>\n",
       "      <th>min</th>\n",
       "      <td>1.000000e+02</td>\n",
       "      <td>2010.000000</td>\n",
       "    </tr>\n",
       "    <tr>\n",
       "      <th>25%</th>\n",
       "      <td>1.200000e+05</td>\n",
       "      <td>2012.000000</td>\n",
       "    </tr>\n",
       "    <tr>\n",
       "      <th>50%</th>\n",
       "      <td>1.400000e+06</td>\n",
       "      <td>2014.000000</td>\n",
       "    </tr>\n",
       "    <tr>\n",
       "      <th>75%</th>\n",
       "      <td>2.790000e+07</td>\n",
       "      <td>2016.000000</td>\n",
       "    </tr>\n",
       "    <tr>\n",
       "      <th>max</th>\n",
       "      <td>9.367000e+08</td>\n",
       "      <td>2018.000000</td>\n",
       "    </tr>\n",
       "  </tbody>\n",
       "</table>\n",
       "</div>"
      ],
      "text/plain": [
       "       domestic_gross         year\n",
       "count    3.359000e+03  3387.000000\n",
       "mean     2.874585e+07  2013.958075\n",
       "std      6.698250e+07     2.478141\n",
       "min      1.000000e+02  2010.000000\n",
       "25%      1.200000e+05  2012.000000\n",
       "50%      1.400000e+06  2014.000000\n",
       "75%      2.790000e+07  2016.000000\n",
       "max      9.367000e+08  2018.000000"
      ]
     },
     "execution_count": 5,
     "metadata": {},
     "output_type": "execute_result"
    }
   ],
   "source": [
    "bom_movie_gross_df.describe()"
   ]
  },
  {
   "cell_type": "markdown",
   "metadata": {},
   "source": [
    "#### Understanding im.db data"
   ]
  },
  {
   "cell_type": "code",
   "execution_count": 6,
   "metadata": {},
   "outputs": [],
   "source": [
    "import sqlite3\n",
    "conn = sqlite3.connect('data/im.db/im.db')"
   ]
  },
  {
   "cell_type": "code",
   "execution_count": 7,
   "metadata": {},
   "outputs": [
    {
     "data": {
      "text/html": [
       "<div>\n",
       "<style scoped>\n",
       "    .dataframe tbody tr th:only-of-type {\n",
       "        vertical-align: middle;\n",
       "    }\n",
       "\n",
       "    .dataframe tbody tr th {\n",
       "        vertical-align: top;\n",
       "    }\n",
       "\n",
       "    .dataframe thead th {\n",
       "        text-align: right;\n",
       "    }\n",
       "</style>\n",
       "<table border=\"1\" class=\"dataframe\">\n",
       "  <thead>\n",
       "    <tr style=\"text-align: right;\">\n",
       "      <th></th>\n",
       "      <th>name</th>\n",
       "    </tr>\n",
       "  </thead>\n",
       "  <tbody>\n",
       "    <tr>\n",
       "      <th>0</th>\n",
       "      <td>movie_basics</td>\n",
       "    </tr>\n",
       "    <tr>\n",
       "      <th>1</th>\n",
       "      <td>directors</td>\n",
       "    </tr>\n",
       "    <tr>\n",
       "      <th>2</th>\n",
       "      <td>known_for</td>\n",
       "    </tr>\n",
       "    <tr>\n",
       "      <th>3</th>\n",
       "      <td>movie_akas</td>\n",
       "    </tr>\n",
       "    <tr>\n",
       "      <th>4</th>\n",
       "      <td>movie_ratings</td>\n",
       "    </tr>\n",
       "    <tr>\n",
       "      <th>5</th>\n",
       "      <td>persons</td>\n",
       "    </tr>\n",
       "    <tr>\n",
       "      <th>6</th>\n",
       "      <td>principals</td>\n",
       "    </tr>\n",
       "    <tr>\n",
       "      <th>7</th>\n",
       "      <td>writers</td>\n",
       "    </tr>\n",
       "  </tbody>\n",
       "</table>\n",
       "</div>"
      ],
      "text/plain": [
       "            name\n",
       "0   movie_basics\n",
       "1      directors\n",
       "2      known_for\n",
       "3     movie_akas\n",
       "4  movie_ratings\n",
       "5        persons\n",
       "6     principals\n",
       "7        writers"
      ]
     },
     "execution_count": 7,
     "metadata": {},
     "output_type": "execute_result"
    }
   ],
   "source": [
    "query = \"SELECT name FROM sqlite_master WHERE type='table';\"\n",
    "imdb_tables = pd.read_sql(query, conn)\n",
    "imdb_tables"
   ]
  },
  {
   "cell_type": "code",
   "execution_count": 8,
   "metadata": {},
   "outputs": [
    {
     "name": "stdout",
     "output_type": "stream",
     "text": [
      "Table: movie_basics\n",
      "    movie_id                    primary_title              original_title  \\\n",
      "0  tt0063540                        Sunghursh                   Sunghursh   \n",
      "1  tt0066787  One Day Before the Rainy Season             Ashad Ka Ek Din   \n",
      "2  tt0069049       The Other Side of the Wind  The Other Side of the Wind   \n",
      "3  tt0069204                  Sabse Bada Sukh             Sabse Bada Sukh   \n",
      "4  tt0100275         The Wandering Soap Opera       La Telenovela Errante   \n",
      "\n",
      "   start_year  runtime_minutes                genres  \n",
      "0        2013            175.0    Action,Crime,Drama  \n",
      "1        2019            114.0       Biography,Drama  \n",
      "2        2018            122.0                 Drama  \n",
      "3        2018              NaN          Comedy,Drama  \n",
      "4        2017             80.0  Comedy,Drama,Fantasy  \n",
      "--------------------------------------------------\n",
      "Table: directors\n",
      "    movie_id  person_id\n",
      "0  tt0285252  nm0899854\n",
      "1  tt0462036  nm1940585\n",
      "2  tt0835418  nm0151540\n",
      "3  tt0835418  nm0151540\n",
      "4  tt0878654  nm0089502\n",
      "--------------------------------------------------\n",
      "Table: known_for\n",
      "   person_id   movie_id\n",
      "0  nm0061671  tt0837562\n",
      "1  nm0061671  tt2398241\n",
      "2  nm0061671  tt0844471\n",
      "3  nm0061671  tt0118553\n",
      "4  nm0061865  tt0896534\n",
      "--------------------------------------------------\n",
      "Table: movie_akas\n",
      "    movie_id  ordering                                    title region  \\\n",
      "0  tt0369610        10                            Джурасик свят     BG   \n",
      "1  tt0369610        11                        Jurashikku warudo     JP   \n",
      "2  tt0369610        12  Jurassic World: O Mundo dos Dinossauros     BR   \n",
      "3  tt0369610        13                  O Mundo dos Dinossauros     BR   \n",
      "4  tt0369610        14                           Jurassic World     FR   \n",
      "\n",
      "  language        types   attributes  is_original_title  \n",
      "0       bg         None         None                0.0  \n",
      "1     None  imdbDisplay         None                0.0  \n",
      "2     None  imdbDisplay         None                0.0  \n",
      "3     None         None  short title                0.0  \n",
      "4     None  imdbDisplay         None                0.0  \n",
      "--------------------------------------------------\n",
      "Table: movie_ratings\n",
      "     movie_id  averagerating  numvotes\n",
      "0  tt10356526            8.3        31\n",
      "1  tt10384606            8.9       559\n",
      "2   tt1042974            6.4        20\n",
      "3   tt1043726            4.2     50352\n",
      "4   tt1060240            6.5        21\n",
      "--------------------------------------------------\n",
      "Table: persons\n",
      "   person_id       primary_name birth_year death_year  \\\n",
      "0  nm0061671  Mary Ellen Bauder       None       None   \n",
      "1  nm0061865       Joseph Bauer       None       None   \n",
      "2  nm0062070         Bruce Baum       None       None   \n",
      "3  nm0062195       Axel Baumann       None       None   \n",
      "4  nm0062798        Pete Baxter       None       None   \n",
      "\n",
      "                                 primary_profession  \n",
      "0         miscellaneous,production_manager,producer  \n",
      "1        composer,music_department,sound_department  \n",
      "2                        miscellaneous,actor,writer  \n",
      "3  camera_department,cinematographer,art_department  \n",
      "4  production_designer,art_department,set_decorator  \n",
      "--------------------------------------------------\n",
      "Table: principals\n",
      "    movie_id  ordering  person_id  category       job        characters\n",
      "0  tt0111414         1  nm0246005     actor      None       [\"The Man\"]\n",
      "1  tt0111414         2  nm0398271  director      None              None\n",
      "2  tt0111414         3  nm3739909  producer  producer              None\n",
      "3  tt0323808        10  nm0059247    editor      None              None\n",
      "4  tt0323808         1  nm3579312   actress      None  [\"Beth Boothby\"]\n",
      "--------------------------------------------------\n",
      "Table: writers\n",
      "    movie_id  person_id\n",
      "0  tt0285252  nm0899854\n",
      "1  tt0438973  nm0175726\n",
      "2  tt0438973  nm1802864\n",
      "3  tt0462036  nm1940585\n",
      "4  tt0835418  nm0310087\n",
      "--------------------------------------------------\n"
     ]
    }
   ],
   "source": [
    "for imdb_table_name in imdb_tables['name']:\n",
    "    cursor = conn.cursor()\n",
    "    query = f\"SELECT * FROM {imdb_table_name} LIMIT 5;\"\n",
    "    cursor.execute(query) # helps execute and retrieve data\n",
    "    imdb_data_df = pd.DataFrame(cursor.fetchall(), columns=[col[0] for col in cursor.description])\n",
    "    print(f\"Table: {imdb_table_name}\")\n",
    "    print(imdb_data_df)\n",
    "    print(\"-\" * 50)"
   ]
  },
  {
   "cell_type": "markdown",
   "metadata": {},
   "source": [
    "Focusing on two tables movie_basics and movie_ratings because movie basics shows the different types of genres as well as the runtimes and movie_ratings shows the average ratings"
   ]
  },
  {
   "cell_type": "code",
   "execution_count": 9,
   "metadata": {},
   "outputs": [
    {
     "name": "stdout",
     "output_type": "stream",
     "text": [
      "Table: movie_ratings\n",
      "     movie_id  averagerating  numvotes\n",
      "0  tt10356526            8.3        31\n",
      "1  tt10384606            8.9       559\n",
      "2   tt1042974            6.4        20\n",
      "3   tt1043726            4.2     50352\n",
      "4   tt1060240            6.5        21\n",
      "--------------------------------------------------\n",
      "Table: movie_basics\n",
      "    movie_id                    primary_title              original_title  \\\n",
      "0  tt0063540                        Sunghursh                   Sunghursh   \n",
      "1  tt0066787  One Day Before the Rainy Season             Ashad Ka Ek Din   \n",
      "2  tt0069049       The Other Side of the Wind  The Other Side of the Wind   \n",
      "3  tt0069204                  Sabse Bada Sukh             Sabse Bada Sukh   \n",
      "4  tt0100275         The Wandering Soap Opera       La Telenovela Errante   \n",
      "\n",
      "   start_year  runtime_minutes                genres  \n",
      "0        2013            175.0    Action,Crime,Drama  \n",
      "1        2019            114.0       Biography,Drama  \n",
      "2        2018            122.0                 Drama  \n",
      "3        2018              NaN          Comedy,Drama  \n",
      "4        2017             80.0  Comedy,Drama,Fantasy  \n",
      "--------------------------------------------------\n"
     ]
    }
   ],
   "source": [
    "table_names = ['movie_ratings', 'movie_basics']\n",
    "for table_name in table_names:\n",
    "    query = f\"SELECT * FROM {table_name} LIMIT 5;\"\n",
    "    cursor = conn.cursor()\n",
    "    cursor.execute(query)\n",
    "    \n",
    "    # Fetch the sample data and load into a DataFrame\n",
    "    imdb_df = pd.DataFrame(cursor.fetchall(), columns=[col[0] for col in cursor.description])\n",
    "    \n",
    "    print(f\"Table: {table_name}\")\n",
    "    print(imdb_df)\n",
    "    print(\"-\" * 50)\n",
    "\n",
    "# # Close connection \n",
    "# conn.close()"
   ]
  },
  {
   "cell_type": "markdown",
   "metadata": {},
   "source": [
    "## 3. Data Preparation"
   ]
  },
  {
   "cell_type": "markdown",
   "metadata": {},
   "source": [
    "After understanding the  bom_movie_gross.csv data, I decided to check for missing or inconsistent values in the data.\n",
    "I have created a function which checks for missing values in both the bom.movie_gross_df and the imdb_df Dataframes"
   ]
  },
  {
   "cell_type": "code",
   "execution_count": 10,
   "metadata": {},
   "outputs": [],
   "source": [
    "def print_missing_values(dataframe):\n",
    "    missing_value_total = dataframe.isnull().sum()\n",
    "    print(missing_value_total)"
   ]
  },
  {
   "cell_type": "code",
   "execution_count": 11,
   "metadata": {},
   "outputs": [
    {
     "name": "stdout",
     "output_type": "stream",
     "text": [
      "title                0\n",
      "studio               5\n",
      "domestic_gross      28\n",
      "foreign_gross     1350\n",
      "year                 0\n",
      "dtype: int64\n"
     ]
    }
   ],
   "source": [
    "print_missing_values(bom_movie_gross_df)"
   ]
  },
  {
   "cell_type": "markdown",
   "metadata": {},
   "source": [
    "I realized that foreign gross has a high number of missing values so I made the decision to add zeros to all the rows that had a null value. I made the assumption that those particular movies did not receive any foreign_gross that year.\n",
    "I also made the decision to fill the studio missing valuse with 'Not Available' just to indicate that there was no information for those studio names\n",
    "I also filled the domestic_gross with zeros to indicated that those movies did not receive any domestic_gross "
   ]
  },
  {
   "cell_type": "code",
   "execution_count": 12,
   "metadata": {},
   "outputs": [],
   "source": [
    "def fill_missing_values(dataframe, column, fill_value):\n",
    "    dataframe[column] = dataframe[column].fillna(fill_value)\n",
    "    return dataframe"
   ]
  },
  {
   "cell_type": "code",
   "execution_count": 13,
   "metadata": {},
   "outputs": [
    {
     "name": "stdout",
     "output_type": "stream",
     "text": [
      "Updated DataFrame:\n",
      "                                            title      studio  domestic_gross  \\\n",
      "0                                     Toy Story 3          BV     415000000.0   \n",
      "1                      Alice in Wonderland (2010)          BV     334200000.0   \n",
      "2     Harry Potter and the Deathly Hallows Part 1          WB     296000000.0   \n",
      "3                                       Inception          WB     292600000.0   \n",
      "4                             Shrek Forever After        P/DW     238700000.0   \n",
      "...                                           ...         ...             ...   \n",
      "3382                                    The Quake       Magn.          6200.0   \n",
      "3383                  Edward II (2018 re-release)          FM          4800.0   \n",
      "3384                                     El Pacto        Sony          2500.0   \n",
      "3385                                     The Swan  Synergetic          2400.0   \n",
      "3386                            An Actor Prepares       Grav.          1700.0   \n",
      "\n",
      "     foreign_gross  year  \n",
      "0        652000000  2010  \n",
      "1        691300000  2010  \n",
      "2        664300000  2010  \n",
      "3        535700000  2010  \n",
      "4        513900000  2010  \n",
      "...            ...   ...  \n",
      "3382             0  2018  \n",
      "3383             0  2018  \n",
      "3384             0  2018  \n",
      "3385             0  2018  \n",
      "3386             0  2018  \n",
      "\n",
      "[3387 rows x 5 columns]\n"
     ]
    }
   ],
   "source": [
    "bom_movie_gross_df = fill_missing_values(bom_movie_gross_df, 'foreign_gross', 0)\n",
    "bom_movie_gross_df = fill_missing_values(bom_movie_gross_df, 'studio', 'Not Available')\n",
    "bom_movie_gross_df = fill_missing_values(bom_movie_gross_df, 'domestic_gross', 0)\n",
    "\n",
    "print(\"Updated DataFrame:\")\n",
    "print(bom_movie_gross_df)"
   ]
  },
  {
   "cell_type": "code",
   "execution_count": 14,
   "metadata": {},
   "outputs": [
    {
     "name": "stdout",
     "output_type": "stream",
     "text": [
      "title             0\n",
      "studio            0\n",
      "domestic_gross    0\n",
      "foreign_gross     0\n",
      "year              0\n",
      "dtype: int64\n"
     ]
    }
   ],
   "source": [
    "print_missing_values(bom_movie_gross_df)"
   ]
  },
  {
   "cell_type": "markdown",
   "metadata": {},
   "source": [
    "After understanding the imdb data, I decided to check for missing values in the tables of movie_basics and movie_ratings.\n"
   ]
  },
  {
   "cell_type": "code",
   "execution_count": 15,
   "metadata": {},
   "outputs": [
    {
     "name": "stdout",
     "output_type": "stream",
     "text": [
      "movie_id           0\n",
      "primary_title      0\n",
      "original_title     0\n",
      "start_year         0\n",
      "runtime_minutes    1\n",
      "genres             0\n",
      "dtype: int64\n"
     ]
    }
   ],
   "source": [
    "print_missing_values(imdb_df)"
   ]
  },
  {
   "cell_type": "markdown",
   "metadata": {},
   "source": [
    "I realized that runtime_minutes has one row that has a missing value so i decided to drop that row "
   ]
  },
  {
   "cell_type": "code",
   "execution_count": 16,
   "metadata": {},
   "outputs": [],
   "source": [
    "imdb_df = imdb_df.dropna(subset=['runtime_minutes'])"
   ]
  },
  {
   "cell_type": "code",
   "execution_count": 17,
   "metadata": {},
   "outputs": [
    {
     "name": "stdout",
     "output_type": "stream",
     "text": [
      "movie_id           0\n",
      "primary_title      0\n",
      "original_title     0\n",
      "start_year         0\n",
      "runtime_minutes    0\n",
      "genres             0\n",
      "dtype: int64\n"
     ]
    }
   ],
   "source": [
    "print_missing_values(imdb_df)"
   ]
  },
  {
   "cell_type": "markdown",
   "metadata": {},
   "source": [
    "## 4. Data Analysis"
   ]
  },
  {
   "cell_type": "markdown",
   "metadata": {},
   "source": [
    "Here I am doing my analysis on of the questions set in the Business Understanding:\n",
    "1. What are the top 5 genres currently trending?\n",
    "- The data being used in this analysis is the im.db where I'll be using the two tables prepared above; movie_basics and movie_ratings\n",
    "- Joined the two tables movie_basics and movie_ratings based on the movie_id key"
   ]
  },
  {
   "cell_type": "code",
   "execution_count": 18,
   "metadata": {},
   "outputs": [
    {
     "name": "stdout",
     "output_type": "stream",
     "text": [
      "Combined DataFrame\n",
      "    movie_id                    primary_title                genres  \\\n",
      "0  tt0063540                        Sunghursh    Action,Crime,Drama   \n",
      "1  tt0066787  One Day Before the Rainy Season       Biography,Drama   \n",
      "2  tt0069049       The Other Side of the Wind                 Drama   \n",
      "3  tt0069204                  Sabse Bada Sukh          Comedy,Drama   \n",
      "4  tt0100275         The Wandering Soap Opera  Comedy,Drama,Fantasy   \n",
      "\n",
      "   averagerating  numvotes  \n",
      "0            7.0        77  \n",
      "1            7.2        43  \n",
      "2            6.9      4517  \n",
      "3            6.1        13  \n",
      "4            6.5       119  \n"
     ]
    }
   ],
   "source": [
    "query = '''SELECT mb.movie_id, mb.primary_title, mb.genres, mr.averagerating, mr.numvotes\n",
    "            FROM movie_basics AS mb\n",
    "            JOIN movie_ratings AS mr\n",
    "            ON mb.movie_id = mr.movie_id''' \n",
    "\n",
    "\n",
    "combined_movie_df = pd.read_sql(query, conn)\n",
    "conn.close()\n",
    "\n",
    "print('Combined DataFrame')\n",
    "print(combined_movie_df.head())"
   ]
  },
  {
   "cell_type": "markdown",
   "metadata": {},
   "source": [
    "- Since the genres are stored as a list of many genres in a row, it is necessary to split them into individual rows\n",
    "- I will also group the Combined DataFrame by genre and calculate the average ratings of each genre as well as the total number of votes\n",
    "- Then sort to get the top 5 genres by average ratings and the top 5 genres by total number of votes"
   ]
  },
  {
   "cell_type": "code",
   "execution_count": 19,
   "metadata": {},
   "outputs": [
    {
     "name": "stdout",
     "output_type": "stream",
     "text": [
      "\n",
      "Top 5 Genres by Average Rating:\n",
      "         genres  averagerating  numvotes\n",
      "21        Short       8.800000         8\n",
      "7   Documentary       7.332090   4739345\n",
      "11    Game-Show       7.300000      3469\n",
      "17         News       7.271330    123319\n",
      "4     Biography       7.162274  21609446\n",
      "\n",
      "Top 5 Genres by Total Number of Votes:\n",
      "       genres  averagerating   numvotes\n",
      "8       Drama       6.401559  119567500\n",
      "0      Action       5.810361  101161682\n",
      "2   Adventure       6.196201   84232589\n",
      "5      Comedy       6.002689   74305805\n",
      "23   Thriller       5.639114   48155313\n"
     ]
    }
   ],
   "source": [
    "combined_movie_df['genres'] = combined_movie_df['genres'].str.split(',')\n",
    "combined_movie_df = combined_movie_df.explode('genres')\n",
    "\n",
    "genre_stats = combined_movie_df.groupby('genres').agg({\n",
    "    'averagerating': 'mean',\n",
    "    'numvotes': 'sum'\n",
    "}).reset_index()\n",
    "\n",
    "# Sort by average rating and total number of votes to get the top 5 genres\n",
    "top_genres_by_rating = genre_stats.sort_values(by='averagerating', ascending=False).head(5)\n",
    "top_genres_by_votes = genre_stats.sort_values(by='numvotes', ascending=False).head(5)\n",
    "\n",
    "print(\"\\nTop 5 Genres by Average Rating:\")\n",
    "print(top_genres_by_rating)\n",
    "\n",
    "print(\"\\nTop 5 Genres by Total Number of Votes:\")\n",
    "print(top_genres_by_votes)"
   ]
  },
  {
   "cell_type": "markdown",
   "metadata": {},
   "source": [
    "## 4. Visualization"
   ]
  },
  {
   "cell_type": "markdown",
   "metadata": {},
   "source": [
    "- 2 visualizations of the top 5 genres: the right one visualiziting the top 5 genres based on the averge rating and the second on the top 5 genres based on the total number of votes"
   ]
  },
  {
   "cell_type": "code",
   "execution_count": 20,
   "metadata": {},
   "outputs": [
    {
     "data": {
      "image/png": "[encoded data removed]",
      "text/plain": [
       "<Figure size 1008x432 with 2 Axes>"
      ]
     },
     "metadata": {
      "needs_background": "light"
     },
     "output_type": "display_data"
    }
   ],
   "source": [
    "import matplotlib.pyplot as plt\n",
    "%matplotlib inline\n",
    "import seaborn as sns\n",
    "\n",
    "# Set up the matplotlib figure\n",
    "plt.figure(figsize=(14, 6))\n",
    "\n",
    "# Bar plot for Top 5 Genres by Average Rating\n",
    "plt.subplot(1, 2, 1)\n",
    "sns.barplot(x='averagerating', y='genres', data=top_genres_by_rating, palette='viridis')\n",
    "plt.title('Top 5 Genres by Average Rating')\n",
    "plt.xlabel('Average Rating')\n",
    "plt.ylabel('Genres')\n",
    "\n",
    "# Bar plot for Top 5 Genres by Total Number of Votes\n",
    "plt.subplot(1, 2, 2)\n",
    "sns.barplot(x='numvotes', y='genres', data=top_genres_by_votes, palette='viridis')\n",
    "plt.title('Top 5 Genres by Total Number of Votes')\n",
    "plt.xlabel('Total Number of Votes')\n",
    "plt.ylabel('Genres')\n",
    "\n",
    "plt.tight_layout()\n",
    "plt.show()"
   ]
  }
 ],
 "metadata": {
  "kernelspec": {
   "display_name": "learn-env",
   "language": "python",
   "name": "python3"
  },
  "language_info": {
   "codemirror_mode": {
    "name": "ipython",
    "version": 3
   },
   "file_extension": ".py",
   "mimetype": "text/x-python",
   "name": "python",
   "nbconvert_exporter": "python",
   "pygments_lexer": "ipython3",
   "version": "3.8.5"
  }
 },
 "nbformat": 4,
 "nbformat_minor": 2
}
